
!pip install faker --quiet

import random
from itertools import combinations
from datetime import date, timedelta
import pandas as pd
from faker import Faker

# --- Setup ---
random.seed(42)
fake = Faker()

# --- Teams (20 unique readable names) ---
teams_df = pd.DataFrame({
    "team_id": range(1, 21),
    "team_name": [f"Team {fake.unique.city()}" for _ in range(20)]
})
print("Teams sample:")
display(teams_df.head())

# --- Matches (200 total, every pair ≥ once, season=2023) ---
team_ids = teams_df.team_id.tolist()
pairs = list(combinations(team_ids, 2))                  # 190 pairs
pairs += [random.choice(pairs) for _ in range(10)]       # +10 to reach 200

def random_date_2023():
    start, end = date(2023,1,1), date(2023,12,31)
    return start + timedelta(days=random.randint(0, (end-start).days))

rows = []
for i, (a, b) in enumerate(pairs, start=1):
    winner, loser = (a, b) if random.random() < 0.5 else (b, a)
    rows.append({
        "match_id": i,
        "season": 2023,
        "match_date": random_date_2023().isoformat(),
        "winner_team_id": winner,
        "loser_team_id": loser
    })

matches_df = pd.DataFrame(rows)
print("Matches sample:")
display(matches_df.head())

# --- Save both CSVs ---
teams_df.to_csv("teams.csv", index=False)
matches_df.to_csv("matches.csv", index=False)
print("Saved: teams.csv, matches.csv")

# --- Top 10 teams by wins (2023), ties included ---
wins_df = (matches_df.groupby("winner_team_id")
           .size().reset_index(name="wins")
           .merge(teams_df, left_on="winner_team_id", right_on="team_id"))

# Find the cutoff (10th highest number of wins)
cutoff = wins_df["wins"].nlargest(10).min()

# Include all teams at or above cutoff
top_with_ties = (wins_df[wins_df["wins"] >= cutoff]
                 .sort_values(["wins","team_name"], ascending=[False, True])
                 .rename(columns={"winner_team_id":"team_id"}))[["team_id","team_name","wins"]]

print("\nTop teams by wins (2023, with ties at 10th place):")
display(top_with_ties)
